{
  "nbformat": 4,
  "nbformat_minor": 0,
  "metadata": {
    "colab": {
      "provenance": [],
      "authorship_tag": "ABX9TyOm3ZXqii/2o/z3gqYjlUcq",
      "include_colab_link": true
    },
    "kernelspec": {
      "name": "python3",
      "display_name": "Python 3"
    },
    "language_info": {
      "name": "python"
    }
  },
  "cells": [
    {
      "cell_type": "markdown",
      "metadata": {
        "id": "view-in-github",
        "colab_type": "text"
      },
      "source": [
        "<a href=\"https://colab.research.google.com/github/Jeremi47/Jeremi47/blob/main/cour%20fonctions%20en%20python.ipynb\" target=\"_parent\"><img src=\"https://colab.research.google.com/assets/colab-badge.svg\" alt=\"Open In Colab\"/></a>"
      ]
    },
    {
      "cell_type": "markdown",
      "source": [
        "# les fonctions en python\n",
        "### Qu’est-ce qu’une fonction ?\n",
        "Une fonction est un bloc de code avec un but spécifique, auquel vous pouvez donner un nom."
      ],
      "metadata": {
        "id": "nDl9gcaacfJv"
      }
    },
    {
      "cell_type": "code",
      "execution_count": 42,
      "metadata": {
        "colab": {
          "base_uri": "https://localhost:8080/"
        },
        "id": "8XtnuqHCcVCD",
        "outputId": "9ead6067-e980-4047-9a71-a1e827eb5641"
      },
      "outputs": [
        {
          "output_type": "stream",
          "name": "stdout",
          "text": [
            "[0, 3, 6, 9, 12]\n"
          ]
        }
      ],
      "source": [
        "def testlist():             # On créer une fonction appelée 'testlist'\n",
        "  list = []                 # On Créer une liste vide en dehors de la boucle\n",
        "  for x in range(5):        # On créer une boucle 'for' qui répaite 5 fois le programme\n",
        "    calcul=3*x              # On créer 'calcul' et on lui done 3 * x\n",
        "    list.append(calcul)     # On ajoutez 'calcul' à la liste 'liste'\n",
        "  return list               # On retournez la liste 'liste'\n",
        "print(testlist())           # On appelez la fonction et on affichez la liste 'liste'\n",
        "\n",
        "\n",
        "\n"
      ]
    }
  ]
}